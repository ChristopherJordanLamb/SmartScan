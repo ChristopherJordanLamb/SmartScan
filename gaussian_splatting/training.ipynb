{
  "cells": [
    {
      "cell_type": "code",
      "execution_count": null,
      "metadata": {
        "colab": {
          "background_save": true,
          "base_uri": "https://localhost:8080/"
        },
        "id": "VjYy0F2gZIPR",
        "outputId": "6c4bfa6f-1b0b-4390-ce3f-cc9046d523a1"
      },
      "outputs": [
        {
          "name": "stdout",
          "output_type": "stream",
          "text": [
            "/content\n",
            "Cloning into 'gaussian-splatting'...\n",
            "remote: Enumerating objects: 603, done.\u001b[K\n",
            "remote: Total 603 (delta 0), reused 0 (delta 0), pack-reused 603 (from 1)\u001b[K\n",
            "Receiving objects: 100% (603/603), 2.09 MiB | 6.15 MiB/s, done.\n",
            "Resolving deltas: 100% (347/347), done.\n",
            "Submodule 'SIBR_viewers' (https://gitlab.inria.fr/sibr/sibr_core) registered for path 'SIBR_viewers'\n",
            "Submodule 'submodules/diff-gaussian-rasterization' (https://github.com/graphdeco-inria/diff-gaussian-rasterization) registered for path 'submodules/diff-gaussian-rasterization'\n",
            "Submodule 'submodules/simple-knn' (https://gitlab.inria.fr/bkerbl/simple-knn.git) registered for path 'submodules/simple-knn'\n",
            "Cloning into '/content/gaussian-splatting/SIBR_viewers'...\n",
            "warning: redirecting to https://gitlab.inria.fr/sibr/sibr_core.git/\n",
            "remote: Enumerating objects: 3270, done.        \n",
            "remote: Counting objects: 100% (324/324), done.        \n",
            "remote: Compressing objects: 100% (177/177), done.        \n",
            "remote: Total 3270 (delta 172), reused 271 (delta 147), pack-reused 2946 (from 1)        \n",
            "Receiving objects: 100% (3270/3270), 9.98 MiB | 8.26 MiB/s, done.\n",
            "Resolving deltas: 100% (2015/2015), done.\n",
            "Cloning into '/content/gaussian-splatting/submodules/diff-gaussian-rasterization'...\n",
            "remote: Enumerating objects: 329, done.        \n",
            "remote: Counting objects: 100% (107/107), done.        \n",
            "remote: Compressing objects: 100% (54/54), done.        \n",
            "remote: Total 329 (delta 68), reused 72 (delta 45), pack-reused 222 (from 1)        \n",
            "Receiving objects: 100% (329/329), 127.29 KiB | 1.08 MiB/s, done.\n",
            "Resolving deltas: 100% (207/207), done.\n",
            "Cloning into '/content/gaussian-splatting/submodules/simple-knn'...\n",
            "remote: Enumerating objects: 37, done.        \n",
            "remote: Counting objects: 100% (37/37), done.        \n",
            "remote: Compressing objects: 100% (34/34), done.        \n",
            "remote: Total 37 (delta 18), reused 0 (delta 0), pack-reused 0 (from 0)        \n",
            "Receiving objects: 100% (37/37), 9.41 KiB | 9.41 MiB/s, done.\n",
            "Resolving deltas: 100% (18/18), done.\n",
            "Submodule path 'SIBR_viewers': checked out '14199886ae3f42358092c16ada909c1e0b1cba20'\n",
            "Submodule path 'submodules/diff-gaussian-rasterization': checked out '8064f52ca233942bdec2d1a1451c026deedd320b'\n",
            "Submodule 'third_party/glm' (https://github.com/g-truc/glm.git) registered for path 'submodules/diff-gaussian-rasterization/third_party/glm'\n",
            "Cloning into '/content/gaussian-splatting/submodules/diff-gaussian-rasterization/third_party/glm'...\n",
            "remote: Enumerating objects: 59615, done.        \n",
            "remote: Counting objects: 100% (5/5), done.        \n",
            "remote: Compressing objects: 100% (4/4), done.        \n",
            "remote: Total 59615 (delta 0), reused 3 (delta 0), pack-reused 59610 (from 1)        \n",
            "Receiving objects: 100% (59615/59615), 71.20 MiB | 18.38 MiB/s, done.\n",
            "Resolving deltas: 100% (45209/45209), done.\n",
            "Submodule path 'submodules/diff-gaussian-rasterization/third_party/glm': checked out '5c46b9c07008ae65cb81ab79cd677ecc1934b903'\n",
            "Submodule path 'submodules/simple-knn': checked out '44f764299fa305faf6ec5ebd99939e0508331503'\n",
            "/content/gaussian-splatting\n",
            "  Preparing metadata (setup.py) ... \u001b[?25l\u001b[?25hdone\n",
            "  Building wheel for diff_gaussian_rasterization (setup.py) ... \u001b[?25l\u001b[?25hdone\n",
            "  Preparing metadata (setup.py) ... \u001b[?25l\u001b[?25hdone\n",
            "  Building wheel for simple_knn (setup.py) ... \u001b[?25l\u001b[?25hdone\n"
          ]
        }
      ],
      "source": [
        "%cd /content\n",
        "!git clone --recursive https://github.com/camenduru/gaussian-splatting\n",
        "!pip install -q plyfile\n",
        "\n",
        "%cd /content/gaussian-splatting\n",
        "!pip install -q /content/gaussian-splatting/submodules/diff-gaussian-rasterization\n",
        "!pip install -q /content/gaussian-splatting/submodules/simple-knn"
      ]
    },
    {
      "cell_type": "code",
      "execution_count": null,
      "metadata": {
        "colab": {
          "base_uri": "https://localhost:8080/"
        },
        "id": "tK-yct2dGbYD",
        "outputId": "b87739f3-ab46-4ee0-8ff4-37d565b8f003"
      },
      "outputs": [
        {
          "name": "stdout",
          "output_type": "stream",
          "text": [
            "Mounted at /content/drive\n"
          ]
        }
      ],
      "source": [
        "from google.colab import drive\n",
        "drive.mount('/content/drive')\n",
        "#"
      ]
    },
    {
      "cell_type": "code",
      "execution_count": null,
      "metadata": {
        "id": "nhRlryw2SpHJ"
      },
      "outputs": [],
      "source": [
        "# Ask the user for the path relative to 'MyDrive'\n",
        "relative_path = input(\"Please enter the path to trainable data relative to MyDrive: \").strip()\n",
        "\n",
        "# Construct the full source path\n",
        "source_path = f\"/content/drive/MyDrive/{relative_path}\"\n",
        "\n",
        "# Destination path where the folder will be copied\n",
        "destination_path = \"/content/gaussian-splatting\"\n",
        "\n",
        "# Execute the copy command\n",
        "!cp -r \"{source_path}\" \"{destination_path}\"\n",
        "\n",
        "print(f\"Successfully copied '{source_path}' to '{destination_path}'\")"
      ]
    },
    {
      "cell_type": "code",
      "execution_count": null,
      "metadata": {
        "colab": {
          "base_uri": "https://localhost:8080/"
        },
        "id": "Z2KSJmDuIN2V",
        "outputId": "c22a0270-64ec-4c67-cfe0-6b38ff7fcb88"
      },
      "outputs": [
        {
          "name": "stdout",
          "output_type": "stream",
          "text": [
            "2024-10-11 12:43:58.546069: I tensorflow/core/util/port.cc:153] oneDNN custom operations are on. You may see slightly different numerical results due to floating-point round-off errors from different computation orders. To turn them off, set the environment variable `TF_ENABLE_ONEDNN_OPTS=0`.\n",
            "2024-10-11 12:43:58.564034: E external/local_xla/xla/stream_executor/cuda/cuda_fft.cc:485] Unable to register cuFFT factory: Attempting to register factory for plugin cuFFT when one has already been registered\n",
            "2024-10-11 12:43:58.585414: E external/local_xla/xla/stream_executor/cuda/cuda_dnn.cc:8454] Unable to register cuDNN factory: Attempting to register factory for plugin cuDNN when one has already been registered\n",
            "2024-10-11 12:43:58.591898: E external/local_xla/xla/stream_executor/cuda/cuda_blas.cc:1452] Unable to register cuBLAS factory: Attempting to register factory for plugin cuBLAS when one has already been registered\n",
            "2024-10-11 12:43:58.607320: I tensorflow/core/platform/cpu_feature_guard.cc:210] This TensorFlow binary is optimized to use available CPU instructions in performance-critical operations.\n",
            "To enable the following instructions: AVX2 AVX512F AVX512_VNNI FMA, in other operations, rebuild TensorFlow with the appropriate compiler flags.\n",
            "2024-10-11 12:43:59.691388: W tensorflow/compiler/tf2tensorrt/utils/py_utils.cc:38] TF-TRT Warning: Could not find TensorRT\n",
            "Optimizing \n",
            "Output folder: ./output/14be5527-e [11/10 12:44:01]\n",
            "Reading camera 368/368 [11/10 12:44:02]\n",
            "Converting point3d.bin to .ply, will happen only the first time you open the scene. [11/10 12:44:02]\n",
            "Loading Training Cameras [11/10 12:44:03]\n",
            "Loading Test Cameras [11/10 12:44:15]\n",
            "Number of points at initialisation :  143828 [11/10 12:44:15]\n",
            "Training progress:  23% 7000/30000 [11:43<44:08,  8.68it/s, Loss=0.0556693]\n",
            "[ITER 7000] Evaluating train: L1 0.034332426637411116 PSNR 23.71287307739258 [11/10 12:56:07]\n",
            "\n",
            "[ITER 7000] Saving Gaussians [11/10 12:56:07]\n",
            "Training progress: 100% 30000/30000 [1:05:26<00:00,  7.64it/s, Loss=0.0343775]\n",
            "\n",
            "[ITER 30000] Evaluating train: L1 0.02495984435081482 PSNR 26.486748504638673 [11/10 13:49:45]\n",
            "\n",
            "[ITER 30000] Saving Gaussians [11/10 13:49:45]\n",
            "\n",
            "Training complete. [11/10 13:50:08]\n"
          ]
        }
      ],
      "source": [
        "last_folder_name = os.path.basename(relative_path.rstrip('/'))  # Ensure no trailing slash\n",
        "final_destination_path = os.path.join(destination_path, last_folder_name)\n",
        "\n",
        "!python train.py -s \"{final_destination_path}\"\n"
      ]
    },
    {
      "cell_type": "code",
      "execution_count": null,
      "metadata": {
        "colab": {
          "base_uri": "https://localhost:8080/"
        },
        "id": "k1UVP1_aw_z7",
        "outputId": "903fb192-42b8-4287-a94f-56fb010086f3"
      },
      "outputs": [
        {
          "name": "stdout",
          "output_type": "stream",
          "text": [
            "Available folders in 'output':\n",
            "1. somethingsomething\n",
            "2. cycling\n",
            "3. .ipynb_checkpoints\n",
            "4. test1\n",
            "Select the folder number to copy from 'output': 4\n",
            "Successfully copied '/content/gaussian-splatting/output/test1' to '/content/drive/MyDrive/Colab Notebooks/gaussian models'\n"
          ]
        }
      ],
      "source": [
        "# List available folders in the output directory for the user\n",
        "import os\n",
        "\n",
        "output_dir = \"/content/gaussian-splatting/output\"\n",
        "folders_in_output = [f for f in os.listdir(output_dir) if os.path.isdir(os.path.join(output_dir, f))]\n",
        "\n",
        "if folders_in_output:\n",
        "    print(\"Available folders in 'output':\")\n",
        "    for idx, folder in enumerate(folders_in_output, 1):\n",
        "        print(f\"{idx}. {folder}\")\n",
        "\n",
        "    # Ask the user to choose a folder by number\n",
        "    while True:\n",
        "        try:\n",
        "            folder_choice = int(input(f\"Select the folder number to copy from 'output': \").strip()) - 1\n",
        "            if 0 <= folder_choice < len(folders_in_output):\n",
        "                selected_folder = folders_in_output[folder_choice]\n",
        "                break\n",
        "            else:\n",
        "                print(\"Invalid choice. Please select a valid number from the list.\")\n",
        "        except ValueError:\n",
        "            print(\"Invalid input. Please enter a valid number.\")\n",
        "\n",
        "    # Construct the full path of the folder to copy\n",
        "    source_folder = os.path.join(output_dir, selected_folder)\n",
        "\n",
        "    # Ask the user for the destination path relative to MyDrive\n",
        "    dest_relative_path = input(\"Enter the destination path relative to 'MyDrive': \").strip()\n",
        "\n",
        "    # Full destination path in Google Drive\n",
        "    destination_path = f\"/content/drive/MyDrive/{dest_relative_path}\"\n",
        "\n",
        "    # Execute the copy command\n",
        "    !cp -r \"{source_folder}\" \"{destination_path}\"\n",
        "\n",
        "    print(f\"Successfully copied '{source_folder}' to '{destination_path}'\")\n",
        "else:\n",
        "    print(f\"No folders found in '{output_dir}'\")\n"
      ]
    },
    {
      "cell_type": "code",
      "execution_count": null,
      "metadata": {
        "id": "NWh9eEV6Gg1O"
      },
      "outputs": [],
      "source": [
        "!cp -r /content/gaussian-splatting/output/'vxlab-pics-attempt-trained'  /content/drive/MyDrive/'Colab Notebooks'/'gaussian models'"
      ]
    }
  ],
  "metadata": {
    "colab": {
      "provenance": []
    },
    "kernelspec": {
      "display_name": "Python 3",
      "name": "python3"
    },
    "language_info": {
      "name": "python"
    }
  },
  "nbformat": 4,
  "nbformat_minor": 0
}